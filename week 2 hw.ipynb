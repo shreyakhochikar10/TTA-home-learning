{
 "cells": [
  {
   "cell_type": "code",
   "execution_count": 9,
   "metadata": {},
   "outputs": [],
   "source": [
    "#TASK 1\n",
    "import random\n",
    "number1 = random.randint(1,10)"
   ]
  },
  {
   "cell_type": "code",
   "execution_count": 10,
   "metadata": {},
   "outputs": [
    {
     "name": "stdout",
     "output_type": "stream",
     "text": [
      "4\n"
     ]
    }
   ],
   "source": [
    "print(number1)"
   ]
  },
  {
   "cell_type": "code",
   "execution_count": null,
   "metadata": {},
   "outputs": [],
   "source": [
    "Name = input(\"What is your name?\")\n",
    "print(\"My name is\" + Name + \" and I will guess a number between 1 and 10\")\n",
    "guess = int(input(\"Take a guess\"))\n",
    "if guess == number1\n",
    " print (\"You guessed it correctly!\")\n",
    "else:\n",
    "    print (\"It's incorrect\")  \n"
   ]
  },
  {
   "cell_type": "code",
   "execution_count": null,
   "metadata": {},
   "outputs": [],
   "source": [
    "#TASK 2\n",
    "favouritenumber = int(input(\"What is your favourite number between 1 to 100?\"))\n",
    "if favouritenumber == 10:\n",
    " print(\"hahahaha\")\n",
    "elif favouritenumber == 20:\n",
    " print (\"hehehehe\")\n",
    "elif favouritenumber == 30:\n",
    " print (\"jajajajaja\") \n",
    "elif favouritenumber == 40:\n",
    " print(\"huhuhuhu\")\n",
    "else:\n",
    "    print(\"okay,bye\")  "
   ]
  },
  {
   "cell_type": "code",
   "execution_count": null,
   "metadata": {},
   "outputs": [],
   "source": [
    "#TASK 3\n",
    "starter = input(\"what is your favourite starter?\")\n",
    "maincourse =input(\"what is your favourite main course dish?\")\n",
    "dessert = input(\"what is your favourite dessert?\")\n",
    "drink = input (\"what is your favourite drink?\")\n",
    "\n",
    "print (\"Your favourite meal is\" + starter + maincourse + dessert + \"with a glass of\" + drink \"!\")"
   ]
  },
  {
   "cell_type": "code",
   "execution_count": 1,
   "metadata": {},
   "outputs": [
    {
     "data": {
      "text/plain": [
       "1800.0"
      ]
     },
     "execution_count": 1,
     "metadata": {},
     "output_type": "execute_result"
    }
   ],
   "source": [
    "#TASK 4\n",
    "bikevalue = 2000\n",
    "while bikevalue <= 1000:\n",
    "    print (\"the value of bike is\", bikevalue)\n",
    "bikevalue - bikevalue*10/100"
   ]
  },
  {
   "cell_type": "code",
   "execution_count": null,
   "metadata": {},
   "outputs": [],
   "source": [
    "#TASK 5\n",
    "Number1 = int(input(\"please select a random number\"))\n",
    "Number2 = int(input(\"please select another random number\"))\n",
    "operator = input(\"select 'a' for addition, select 's' for subtraction, select 'd' for division, select 'm' for multiplication, select 'p' for square\")\n",
    "if operator == a:\n",
    " print(Number1 + Number2 )\n",
    "elif operator == s:\n",
    "    print(Number1 - Number2) \n",
    "elif operator== d:\n",
    "    print(Number1 / Number2)\n",
    "elif operator== m:\n",
    "    print(Number1 * Number2)\n",
    "elif operator== p:\n",
    "    print(Number1 ** Number2)\n",
    "else:\n",
    "    print(\"not applicable\")           "
   ]
  }
 ],
 "metadata": {
  "interpreter": {
   "hash": "e953e095df292b633d448e8b08fa11fb32d3689f150d559f8afff60cc87e313b"
  },
  "kernelspec": {
   "display_name": "Python 3.10.2 64-bit",
   "language": "python",
   "name": "python3"
  },
  "language_info": {
   "codemirror_mode": {
    "name": "ipython",
    "version": 3
   },
   "file_extension": ".py",
   "mimetype": "text/x-python",
   "name": "python",
   "nbconvert_exporter": "python",
   "pygments_lexer": "ipython3",
   "version": "3.10.2"
  },
  "orig_nbformat": 4
 },
 "nbformat": 4,
 "nbformat_minor": 2
}
